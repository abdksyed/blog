{
 "cells": [
  {
   "cell_type": "markdown",
   "source": [
    "# DE⫶TR -- Extending Object Detection to Panoptic Segmentation\n",
    "> An Extension to Object Detection using Transformers to Predict Pixel wise mask of each class.\n",
    "\n",
    "- toc: true \n",
    "- badges: true\n",
    "- comments: true\n",
    "- categories: [Custom Dataset, Object Detection, Panoptic Segmentation, COCO ,DETR]\n",
    "- image: images/PanopticSegmentation/DETR.gif "
   ],
   "metadata": {}
  },
  {
   "cell_type": "markdown",
   "source": [
    "![SuperCool](../images/PanopticSegmentation/DETR.gif )"
   ],
   "metadata": {}
  }
 ],
 "metadata": {
  "orig_nbformat": 4,
  "language_info": {
   "name": "python"
  }
 },
 "nbformat": 4,
 "nbformat_minor": 2
}