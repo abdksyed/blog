{
 "cells": [
  {
   "cell_type": "markdown",
   "source": [
    "# DE⫶TR -- End-to-End Object Detection with Transformers\n",
    "> An End to End pipeline for Object Detection.\n",
    "\n",
    "- toc: true \n",
    "- badges: true\n",
    "- comments: true\n",
    "- categories: [Custom Dataset, Object Detection, Panoptic Segmentation, COCO ,DETR]\n",
    "- image: images/CustomDataset/Predicted.png "
   ],
   "metadata": {}
  },
  {
   "cell_type": "markdown",
   "source": [
    "![Cool](../images/ObjectDetection/Cover.png)"
   ],
   "metadata": {}
  },
  {
   "cell_type": "markdown",
   "source": [],
   "metadata": {}
  }
 ],
 "metadata": {
  "orig_nbformat": 4,
  "language_info": {
   "name": "python"
  }
 },
 "nbformat": 4,
 "nbformat_minor": 2
}