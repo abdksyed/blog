{
 "cells": [
  {
   "cell_type": "markdown",
   "source": [
    "# DE⫶TR -- End-to-End Object Detection with Transformers\n",
    "> An approach for creating Dataset for Panoptic Segmentation using Pre Trained DETR.\n",
    "\n",
    "- toc: true \n",
    "- badges: true\n",
    "- comments: true\n",
    "- categories: [Custom Dataset, Object Detection, Panoptic Segmentation, COCO ,DETR]\n",
    "- image: images/CustomDataset/Predicted.png "
   ],
   "metadata": {}
  },
  {
   "cell_type": "markdown",
   "source": [
    "![Cool](../images/ObjectDetection/Cover.png)"
   ],
   "metadata": {}
  },
  {
   "cell_type": "markdown",
   "source": [
    "# What is DETR?"
   ],
   "metadata": {}
  },
  {
   "cell_type": "markdown",
   "source": [
    "## Finds let's know what is Object Detection\n",
    "Object detection refers to the capability of computer and software systems to locate objects in an image/scene and identify each object.  \n",
    "Object detection has been widely used for face detection, vehicle detection, pedestrian counting, web images, security systems and driverless cars."
   ],
   "metadata": {}
  },
  {
   "cell_type": "markdown",
   "source": [
    "## How DETR approach the problem?\n",
    "\n",
    "`DETR` streamlines the detection pipeline, effectively removing the need for many hand-designed components like a `non-maximum suppression` procedure or `anchor generation`\n",
    "that explicitly encode our prior knowledge about the task. The main ingredients of the new framework, called `DEtection TRansformer` or `DETR`, are a `set-based global loss` that forces unique predictions via `bipartite matching`, and a `transformer encoder-decoder architecture`.  \n",
    "\n",
    "Given a fixed small `set of learned object queries`, DETR reasons about the relations of the objects and the global image context to directly output\n",
    "the final set of predictions in parallel. The new model is conceptually simple and does not require a specialized library, unlike many other modern detectors.\n",
    "\n",
    "DETR demonstrates accuracy and run-time performance on par with the well-established and highly-optimized Faster RCNN baseline on the challenging COCO object detection dataset. Moreover, DETR can be easily generalized to produce panoptic segmentation in a unified manner\n",
    "\n",
    "Another helpful aspect unlike most existing detection methods, DETR doesn’t require any customized layers, and thus can be reproduced easily in any framework that contains standard CNN and transformer classes."
   ],
   "metadata": {}
  },
  {
   "cell_type": "markdown",
   "source": [
    "# "
   ],
   "metadata": {}
  },
  {
   "cell_type": "markdown",
   "source": [],
   "metadata": {}
  }
 ],
 "metadata": {
  "orig_nbformat": 4,
  "language_info": {
   "name": "python"
  }
 },
 "nbformat": 4,
 "nbformat_minor": 2
}