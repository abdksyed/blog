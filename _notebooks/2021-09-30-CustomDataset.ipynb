{
 "cells": [
  {
   "cell_type": "markdown",
   "source": [
    "# Creating Custom Dataset using DETR\n",
    "> An approach for creating Dataset for Panoptic Segmentation using Pre Trained DETR.\n",
    "\n",
    "- toc: true \n",
    "- badges: true\n",
    "- comments: true\n",
    "- categories: [jupyter]\n",
    "<!-- - image: images/chart-preview.png -->"
   ],
   "metadata": {}
  },
  {
   "cell_type": "markdown",
   "source": [
    "# What and Why?\n",
    "\n",
    "We at [TSAI](https://theschoolof.ai/) wanted to train a Panpotic Segmentation Model(DETR) on a custom dataset. We decided to go ahead with Construction Classes and annotated the things of around 50 classes like [grader](https://www.google.com/search?q=grader), [wheel loader](https://www.google.com/search?q=grader), [aac blocks](https://www.google.com/search?q=aac+blocks) etc.\n",
    "While annotating we just annoatated the things, and left out stuff, as it would be way more tedious to annotate the stuffs like ground, grass, building etc. \n",
    "\n",
    "We know existing Models are very well trained on COCO dataset, and we could levrage them to predict stuff classes in our images. So we went out and decided to use pre-trained DETR for Panoptic Segmentation to perform inference on our images and get this stuffs for our images.\n",
    "\n",
    "In total we had **10k Images** for all the classes combined, with very high imbalance, like 15 images for one class and on the other extreme 500+ images for other.."
   ],
   "metadata": {}
  },
  {
   "cell_type": "markdown",
   "source": [
    "## Our Classes for Things and Stuff"
   ],
   "metadata": {}
  },
  {
   "cell_type": "markdown",
   "source": [
    "### Things\n",
    "\n",
    "We have 48 Things categories."
   ],
   "metadata": {}
  },
  {
   "cell_type": "markdown",
   "source": [
    "```python\n",
    "{\n",
    "    'aac_blocks': 0, 'adhesives': 1, 'ahus': 2, 'aluminium_frames_for_false_ceiling': 3,\n",
    "    'chiller': 4, 'concrete_mixer_machine': 5, 'concrete_pump_(50%)': 6, 'control_panel': 7,\n",
    "    'cu_piping': 8, 'distribution_transformer': 9, 'dump_truck___tipper_truck': 10,\n",
    "    'emulsion_paint': 11, 'enamel_paint': 12, 'fine_aggregate': 13, 'fire_buckets': 14,\n",
    "    'fire_extinguishers': 15, 'glass_wool': 16, 'grader': 17, 'hoist': 18,\n",
    "    'hollow_concrete_blocks': 19, 'hot_mix_plant': 20, 'hydra_crane': 21,\n",
    "    'interlocked_switched_socket': 22, 'junction_box': 23, 'lime': 24, 'marble': 25,\n",
    "    'metal_primer': 26, 'pipe_fittings': 27, 'rcc_hume_pipes': 28, 'refrigerant_gas': 29,\n",
    "    'river_sand': 30, 'rmc_batching_plant': 31, 'rmu_units': 32, 'sanitary_fixtures': 33,\n",
    "    'skid_steer_loader_(bobcat)': 34, 'smoke_detectors': 35, 'split_units': 36,\n",
    "    'structural_steel_-_channel': 37, 'switch_boards_and_switches': 38, 'texture_paint': 39,\n",
    "    'threaded_rod': 40, 'transit_mixer': 41, 'vcb_panel': 42, 'vitrified_tiles': 43,\n",
    "    'vrf_units': 44, 'water_tank': 45, 'wheel_loader': 46, 'wood_primer': 47\n",
    "}\n",
    "```"
   ],
   "metadata": {}
  },
  {
   "cell_type": "markdown",
   "source": [
    "### Stuff\n",
    "\n",
    "To make life simpler, I decided to make the stuff categories smaller, by collapsing all the categories to their super categories, and finally leavins us with 16 stuff classes"
   ],
   "metadata": {}
  },
  {
   "cell_type": "markdown",
   "source": [
    "```python\n",
    "{\n",
    "    'building':48, 'ceiling':49, 'floor':50, 'food':51, 'furniture':52,\n",
    "    'ground':53, 'plant':54, 'raw_material':55, 'sky':56, 'solids':57,\n",
    "    'structural':58, 'textile':59, 'wall':60, 'water':61, 'window':62,\n",
    "    'thing':63\n",
    "}\n",
    "```"
   ],
   "metadata": {}
  },
  {
   "cell_type": "markdown",
   "source": [
    "Mapping for each stuff category of COCO to their super category: "
   ],
   "metadata": {}
  },
  {
   "cell_type": "markdown",
   "source": [
    "#collapse-hide\n",
    "```python\n",
    "{\n",
    "    'cardboard': 'raw_material', 'paper': 'raw_material', 'plastic': 'raw_material',\n",
    "    'metal': 'raw_material', 'wall-tile': 'wall', 'wall-panel': 'wall',\n",
    "    'wall-wood': 'wall', 'wall-brick': 'wall', 'wall-stone': 'wall',\n",
    "    'wall-concrete': 'wall', 'wall-other': 'wall', 'ceiling-tile': 'ceiling',\n",
    "    'ceiling-other': 'ceiling', 'carpet': 'floor', 'floor-tile': 'floor',\n",
    "    'floor-wood': 'floor', 'floor-marble': 'floor', 'floor-stone': 'floor',\n",
    "    'floor-other': 'floor', 'window-blind': 'window', 'window-other': 'window',\n",
    "    'door-stuff': 'furniture', 'desk-stuff': 'furniture', 'table': 'furniture',\n",
    "    'shelf': 'furniture', 'cabinet': 'furniture', 'cupboard': 'furniture',\n",
    "    'mirror-stuff': 'furniture', 'counter': 'furniture', 'light': 'furniture',\n",
    "    'stairs': 'furniture', 'furniture-other': 'furniture', 'rug': 'textile',\n",
    "    'mat': 'textile', 'towel': 'textile', 'napkin': 'textile', 'clothes': 'textile',\n",
    "    'cloth': 'textile', 'curtain': 'textile', 'blanket': 'textile', 'pillow': 'textile',\n",
    "    'banner': 'textile','textile-other': 'textile', 'fruit': 'food', 'salad': 'food',\n",
    "    'vegetable': 'food', 'food-other': 'food', 'house': 'building', 'skyscraper': 'building',\n",
    "    'bridge': 'building', 'tent': 'building', 'roof': 'building', 'building-other': 'building',\n",
    "    'fence': 'structural', 'cage': 'structural', 'net': 'structural', 'railing': 'structural', \n",
    "    'structural-other': 'structural', 'grass': 'plant', 'tree': 'plant', 'bush': 'plant',\n",
    "    'leaves': 'plant', 'flower': 'plant', 'branch': 'plant', 'moss': 'plant', 'straw': 'plant',\n",
    "    'plant-other': 'plant', 'clouds': 'sky', 'sky-other': 'sky', 'wood': 'solids',\n",
    "    'rock': 'solids', 'stone': 'solids', 'mountain': 'solids', 'hill': 'solids',\n",
    "    'solid-other': 'solids', 'sand': 'ground', 'snow': 'ground', 'dirt': 'ground',\n",
    "    'mud': 'ground', 'gravel': 'ground', 'road': 'ground', 'pavement': 'ground',\n",
    "    'railroad': 'ground', 'platform': 'ground', 'playingfield': 'ground', \n",
    "    'ground-other': 'ground', 'fog': 'water', 'river': 'water', 'sea': 'water',\n",
    "    'waterdrops': 'water', 'water-other': 'water',\n",
    "    'things': 'things', 'water': 'water', 'window': 'window', 'ceiling': 'ceiling',\n",
    "    'sky': 'sky', 'floor': 'floor', 'food': 'food', 'building': 'building','wall': 'wall'\n",
    "    }\n",
    "```"
   ],
   "metadata": {}
  },
  {
   "cell_type": "code",
   "execution_count": null,
   "source": [
    "#collapse-hide\n",
    "OUR_CLASSES = {\n",
    "    'aac_blocks': 0, 'adhesives': 1, 'ahus': 2, 'aluminium_frames_for_false_ceiling': 3,\n",
    "    'chiller': 4, 'concrete_mixer_machine': 5, 'concrete_pump_(50%)': 6, 'control_panel': 7,\n",
    "    'cu_piping': 8, 'distribution_transformer': 9, 'dump_truck___tipper_truck': 10,\n",
    "    'emulsion_paint': 11, 'enamel_paint': 12, 'fine_aggregate': 13, 'fire_buckets': 14,\n",
    "    'fire_extinguishers': 15, 'glass_wool': 16, 'grader': 17, 'hoist': 18,\n",
    "    'hollow_concrete_blocks': 19, 'hot_mix_plant': 20, 'hydra_crane': 21,\n",
    "    'interlocked_switched_socket': 22, 'junction_box': 23, 'lime': 24, 'marble': 25,\n",
    "    'metal_primer': 26, 'pipe_fittings': 27, 'rcc_hume_pipes': 28, 'refrigerant_gas': 29,\n",
    "    'river_sand': 30, 'rmc_batching_plant': 31, 'rmu_units': 32, 'sanitary_fixtures': 33,\n",
    "    'skid_steer_loader_(bobcat)': 34, 'smoke_detectors': 35, 'split_units': 36,\n",
    "    'structural_steel_-_channel': 37, 'switch_boards_and_switches': 38, 'texture_paint': 39,\n",
    "    'threaded_rod': 40, 'transit_mixer': 41, 'vcb_panel': 42, 'vitrified_tiles': 43,\n",
    "    'vrf_units': 44, 'water_tank': 45, 'wheel_loader': 46, 'wood_primer': 47\n",
    "    }\n"
   ],
   "outputs": [],
   "metadata": {}
  },
  {
   "cell_type": "markdown",
   "source": [
    "# Annotations"
   ],
   "metadata": {}
  },
  {
   "cell_type": "code",
   "execution_count": null,
   "source": [
    "#collapse-hide\n",
    "I = Image.open(<image_dir>/'images'/img['file_name'])\n",
    "I = I.convert('RGB')"
   ],
   "outputs": [],
   "metadata": {}
  },
  {
   "cell_type": "markdown",
   "source": [
    "## Actual Image\n",
    "![ActualImage](../images/CustomDataset/Actual.png)"
   ],
   "metadata": {}
  },
  {
   "cell_type": "code",
   "execution_count": null,
   "source": [
    "#collapse-hide\n",
    "\n",
    "# get all images containing given categories, select one at random\n",
    "catIds = coco.getCatIds(catNms=['grader']);\n",
    "imgIds = coco.getImgIds(catIds=catIds );\n",
    "img = coco.loadImgs(imgIds[np.random.randint(0,len(imgIds))])[0] #Random Image\n",
    "\n",
    "annIds = coco.getAnnIds(imgIds=img['id'], catIds=catIds, iscrowd=None)\n",
    "anns = coco.loadAnns(annIds)\n",
    "coco.showAnns(anns, draw_bbox=True)"
   ],
   "outputs": [],
   "metadata": {}
  },
  {
   "cell_type": "markdown",
   "source": [
    "## Our Class Annotation (Segmentation and BBox)\n",
    "![ActualAnnotation](../images/CustomDataset/ActualAnnotation.png)"
   ],
   "metadata": {}
  },
  {
   "cell_type": "code",
   "execution_count": null,
   "source": [
    "#collapse-hide\n",
    "temp_img = np.zeros((og_w,og_h))\n",
    "for op in og_poly:\n",
    "    cv2.fillPoly(temp_img, pts = np.int32([op.get_xy()]), color =(255))\n",
    "plt.imshow(temp_img)"
   ],
   "outputs": [],
   "metadata": {}
  },
  {
   "cell_type": "markdown",
   "source": [
    "![AnnotationMask](../images/CustomDataset/AnnotationMask.png)"
   ],
   "metadata": {}
  },
  {
   "cell_type": "code",
   "execution_count": null,
   "source": [
    "# hide\n",
    "import torch\n",
    "improt "
   ],
   "outputs": [],
   "metadata": {}
  }
 ],
 "metadata": {
  "orig_nbformat": 4,
  "language_info": {
   "name": "python"
  }
 },
 "nbformat": 4,
 "nbformat_minor": 2
}